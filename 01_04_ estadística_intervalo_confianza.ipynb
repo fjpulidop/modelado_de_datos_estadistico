{
 "cells": [
  {
   "cell_type": "markdown",
   "metadata": {},
   "source": [
    "- A un nivel intuitivo el IC de un parámetro poblacional $\\theta$ proporciona(infiere) un rango plausible de valores para dicho parámetro a nivel poblacional. En el caso del parámetro poblacional $\\pi$ su IC viene dado por:\n",
    "\n",
    "<div align=\"center\">\n",
    "\\begin{equation}\n",
    "IC(1-\\alpha)\\%(\\pi)=(E[\\hat\\Pi]] - Z_{\\frac{1-\\alpha}{2}}EE[\\hat\\Pi],E[\\hat\\Pi]+z_{\\frac{1-\\alpha}{2}}EE[\\hat\\Pi])\n",
    "\\end{equation}\n",
    "</div>\n",
    "\n",
    "\n",
    "- Donde $1-\\alpha$ representa la confianza que se tiene en que dicho intervalo cubra la verdad al parámetro poblacional.\n",
    "\n",
    "\n",
    "- Usualmente se toma $\\alpha=0.05$ con lo que la confianza habitual es del 95%, aunque en ocasiones también se utiliza $\\alpha=0.01$ y por tanto la confianza es del 99%.\n",
    "\n",
    "\n",
    "- El valor $z_{{1-\\alpha}/{2}}$ representa el valor de la abcisa en la curva de una densidad normal tipificada que deja a la izquierda de su valor un área de $1-\\alpha/2$ y a la derecha de su valor un área de $\\alpha/2$.\n",
    "\n",
    "\n",
    "- Este valor $z_{{1-\\alpha}/{2}}$ se encuentra tabulado, de forma que para $\\alpha=0.05$ es $z_{{1-0.05}/{2}}=1.96$ y para $\\alpha=0.01$ es $z_{{1-0.01}/{2}}=2.58$"
   ]
  },
  {
   "cell_type": "code",
   "execution_count": null,
   "metadata": {},
   "outputs": [],
   "source": []
  }
 ],
 "metadata": {
  "kernelspec": {
   "display_name": "Python 3",
   "language": "python",
   "name": "python3"
  },
  "language_info": {
   "codemirror_mode": {
    "name": "ipython",
    "version": 3
   },
   "file_extension": ".py",
   "mimetype": "text/x-python",
   "name": "python",
   "nbconvert_exporter": "python",
   "pygments_lexer": "ipython3",
   "version": "3.8.3"
  }
 },
 "nbformat": 4,
 "nbformat_minor": 4
}
