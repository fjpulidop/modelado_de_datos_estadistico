{
 "cells": [
  {
   "cell_type": "markdown",
   "metadata": {},
   "source": [
    "- Aprendizaje supervisado\n",
    "    - Modelización de $Y_i$ respecto a $X_{i..p}$\n",
    "        - Y: variable de respuesta, también llamada dependiente, explicada, output o resultado\n",
    "        - $X_{i..p} (X_1,X_2,..,X_p)$: variables explicativas, también llamadas independientes, predictores, características, input o entradas.\n",
    "        - Lo que determina el modelo a utilizar no es la naturaleza de las variables explicativas sino la naturaleza de la variable respuesta.\n",
    "\n",
    "- Aprendizjae no supervisado\n",
    "    - En caso de que no haya una variable respuesta y sí hayaa múltiples variables explicativas $X_{i..p}$\n",
    "    \n",
    "- Este tipo de nomenclatura (supervisado/no supervisado) es habitual en el ámbito de la minería de datos."
   ]
  },
  {
   "cell_type": "markdown",
   "metadata": {},
   "source": [
    "## Tipos de modelos\n",
    "- Clasificación A: Modelos de análisis supervisado según la naturaleza de la variable respuesta\n",
    "    - Y dicotómica: regresión logística / análisis discriminante\n",
    "    - Y continua: regresión lineal\n",
    "    - Y nominal: regresión logística politómica / análisis discriminante politómico\n",
    "    - Y ordinal: regresión de riesgos proporcionales (\"odds proportional regression\")\n",
    "\n",
    "- Clasificación B: Principales modelos del análisis supervisado según la dicotomía:\n",
    "    - Regresión: en el caso de que la variable respuesta sea continua\n",
    "    - Clasificación: en el caso de que la variable respuesta sea nominal\n",
    "    \n",
    "- La Clasificación B tiene un inconveniente pedagógico frente a la Clasificación A y es que no se sabría muy bien dónde tendría cabida la regresión logística pues aunque lleva en el nombre la palabra \"regresión\", sin embargo sirve para clasificar, ya que la variable respuesta es nominal.\n",
    "\n",
    "\n",
    "## Construcción del modelo\n",
    "- La mayoría de los modelos establecen una relación Y en términos de $X=(X_1,X_2,...,X_p)$ a través de una ecuación del tipo:\n",
    "<div align='center'>$Y=f(X_1,X_2,..,X_p)+\\varepsilon=f(X)+\\varepsilon$</div>\n",
    "    - $f$ es una función fija pero desconocida, que representa la información sistemática de las variables explicativas\n",
    "    - $\\varepsilon$ es una v.a. independiente de $X$ con $E[\\varepsilon]=0$ que representa una perturbación de la información sistemática de $X$.\n",
    "- El objetivo es determinar $\\hat f$ para estimar $f$ y poder predecir $Y$ a través de $\\hat Y=\\hat f(X)$\n",
    "- Una medida del error que se comete cuando se utiliza el modelo estimado es\n",
    "<div align='center'>$E{[Y-\\hat Y]}^2$</div>\n",
    "- Esta medida del error se puede descomponer de forma que aparezcan dos sumandos según se detalla a continuación:\n",
    "<div align='center'>$E{[Y-\\hat Y]}^2=E{[f(X)+\\varepsilon-\\hat f(X)]}^2=...={(f(X)-\\hat f(X))}^2+V[\\varepsilon]$</div>\n",
    "\n",
    "### Codificación de las variables explicativas\n",
    "- La codificación de las variables explicativas para que formen parte de los modelos de este mini-libro se hace de la forma siguiente:\n",
    "    - Si son continuas no es necesario hacer ninguna codificación. Se introducen en el modelo directamente con sus valores numéricos\n",
    "    - Si son nominales con $k$ categorías, es necesario crear $k-1$ variables ficticias (variables indicador, auxiliares o \"dummy\").\n",
    "    - Si son ordinales, una posibilidad es tratarlas como nominales (se estaría perdiendo informacion), sin embargo lo más adecuado sería usar transformaciones ortogonales. No sería correcto introducirlas como si fueran continuas con valores numéricos asociados a los niveles ordenados.\n",
    "\n",
    "### Ajuste del modelo\n",
    "- El proceso de construcción de un modelo tiene que seguirse a través de una estrategia de modelización, en el que bien de forma manual o de forma automática se seleccione un modelo candidato que habra que evaluar si se comporta de manera razonable.\n",
    "- En este proceso hay que dividir la muestra de forma aleatoria en un conjunto de datos de entrenamiento (con el que se construye el modelo candidato) yun conjunto de datos de validación (con el que se evalúa su rendimiento).\n",
    "- En los modelos con variable respuesta continua es habitual utilizar el error cuadrático medio (\"mean square error\") en el conjunto de entrenamiento como medida del rendimiento del modelo. Cuando la variable respuesta es dicotómica se utilizan la sensibilidad, la especifidad y la curva roc. En el caso de que la respuesta sea nominal, se utiliza la matriz de confusión.\n",
    "- En los modelos con variable respuesta continua, la fórmula siguiente\n",
    "<div align='center'>$E[y_0 - \\hat f(x_0)]^2 = V[\\hat f(x_0)]+(sesgo(\\hat f(x_0)))^2+V[\\varepsilon]$</div>\n",
    "    - expresa el error cuadrático medio esperado en el conjunto de validación, para una observación $(y_0, x_0)$ de dicho conjunto."
   ]
  },
  {
   "cell_type": "code",
   "execution_count": null,
   "metadata": {},
   "outputs": [],
   "source": []
  }
 ],
 "metadata": {
  "kernelspec": {
   "display_name": "Python 3",
   "language": "python",
   "name": "python3"
  },
  "language_info": {
   "codemirror_mode": {
    "name": "ipython",
    "version": 3
   },
   "file_extension": ".py",
   "mimetype": "text/x-python",
   "name": "python",
   "nbconvert_exporter": "python",
   "pygments_lexer": "ipython3",
   "version": "3.8.3"
  }
 },
 "nbformat": 4,
 "nbformat_minor": 4
}
