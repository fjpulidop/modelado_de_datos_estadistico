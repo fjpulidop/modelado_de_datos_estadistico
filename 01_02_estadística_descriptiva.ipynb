{
 "cells": [
  {
   "cell_type": "markdown",
   "metadata": {},
   "source": [
    "## Propósito de la Estadística\n",
    "- El propósito de la Estadística es conocer a una población. Este propósito se realiza estudiando en primer lugar una muestra de ella a través de la estadística descriptiva y, gracias al cálculo de probabilidades, dando el salto a la población a través de la estadística inferencial.\n",
    "\n",
    "\n",
    "## Objetivo de la estadística descriptiva\n",
    "- El objetivo de la estadística descriptiva es procesar, describir, resumir la información recogida en la muestra a través de unos índices (medidas) que reciben el nombre de estadísticos y que se calculan a partir de los datos experimentales.\n",
    "\n",
    "\n",
    "## Variable dicotómica: ejemplo en contexto médico\n",
    "- Ejemplo: en el caso de que se esté interesado en conocer el impacto de una enfermedad en una población, se podría hacer un estudio recogiendo una muestra de ella de ``n`` individuos y registrando si tienen o no la enfermedad. \n",
    "\n",
    "\n",
    "- Este ejemplo correspondería a una variable dicotómica, dad por Enfermedad (Sí/No) y que se podría denotar por Y(1/0). En esta situación los datos experimentales tendrían el patrón dado en la siguiente tabla, donde:\n",
    "    - el número de individuos ``1`` es $r_1$\n",
    "    - el número de individuos ``0`` es $r_0$\n",
    "    - el número total de individuos es ``n``=$r_1$+$r_0$\n",
    "\n",
    "|Y|\n",
    "|---|\n",
    "|1|\n",
    "|0|\n",
    "|...|\n",
    "|1|\n",
    "\n",
    "\n",
    "- En este caso de una variable dicotómica, el estadístico descriptivo por excelencia es la ``proporicional muestral dada por`` $\\frac{r_1}{n}$ que es un número entre 0 y 1.\n",
    "    - En la práctica se suele presentar en forma de porcentaje, multiplicando por 100.\n",
    "\n",
    "\n",
    "- En el contexto médico, a la proporción muestral de enfermedad se la denomina ``prevalencia muestral`` y presenta la probabilidad de estár enfermo.\n",
    "\n",
    "\n",
    "- Es interesante observar que si se denota en general por $y_i$ al valor del individuo $i$ en la variable $Y$, al haber codificado esta variable $Y$ con $1/0$, se tiene el caso, que:\n",
    "\n",
    "\n",
    "\\begin{equation}\n",
    "\\frac{r_1}{n}=\\frac{1}{n}\\sum^n_{i=1} y_i,\n",
    "\\end{equation}\n",
    "\n",
    "\n",
    "- Donde $\\frac{1}{n}\\sum^n_{i=1} y_i$ indica $y_1+...+y_n$, ya que $\\frac{1}{n}\\sum^n_{i=1} y_i = \\begin{matrix} \\underbrace{ 1 + \\cdots + 1 } \\\\ r_1 \\end{matrix} + \\begin{matrix} \\underbrace{ 0 + \\cdots + 0 } \\\\ r_0 \\end{matrix} = r_1$ por lo que en este contexto, la proporción muestral es la media muestral.\n",
    "    \n",
    "    \n",
    "- Así, si en una muestra de ``n``= 50 unidades, hubiera $r_1$=17 con dicha enfermedad, la estadística descriptiva afirma que en dicha muestra el porcentaje de enfermedad es del 34%, pero ... ¿y en la población?. Esta es una pregunta que no puede responder la estadística descriptiva, hay que esperar a la estadística inferencial."
   ]
  }
 ],
 "metadata": {
  "kernelspec": {
   "display_name": "Python 3",
   "language": "python",
   "name": "python3"
  },
  "language_info": {
   "codemirror_mode": {
    "name": "ipython",
    "version": 3
   },
   "file_extension": ".py",
   "mimetype": "text/x-python",
   "name": "python",
   "nbconvert_exporter": "python",
   "pygments_lexer": "ipython3",
   "version": "3.8.3"
  }
 },
 "nbformat": 4,
 "nbformat_minor": 4
}
