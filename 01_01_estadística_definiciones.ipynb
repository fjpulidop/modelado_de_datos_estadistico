{
 "cells": [
  {
   "cell_type": "markdown",
   "metadata": {},
   "source": [
    "## Población, muestra, casos, variables y datos\n",
    "\n",
    "- Población: es un conjunto de elementos (individuos, pacientes, objetos, unidades experimentales, ordenadores, neumáticos, etc) que poseen una o más características observables en común, que se denominan criterios de definición de la población.\n",
    "\n",
    "\n",
    "- Muestra: conjunto de elementos extraídos de la población. Para que una muestra sirva para generalizar conclusiones a su población correspondiente la muestra tiene que ser representativa de su población. Esto se consigue mediante un cálculo del tamaño muestral adecuado y un correcto procedimiento para su extracción aleatoria de la población.\n",
    "\n",
    "\n",
    "- Casos: es la información recogida de la muestra susceptible de poderse organizar en filas. Son los elementos de la muestra sobre los que se recoge información.\n",
    "\n",
    "\n",
    "- Variables: es la información recogida de la muestra susceptible de poderse organizar en columnas. Es la forma de recoger una característica de interés de los casos (es decir, todo aquello que se recoja de un caso). Una variable puede tomar distintos valores (aleatorios) para cada caso; lo contrario a una variable es una constante (no varía). \n",
    "\n",
    "\n",
    "- Datos: son valores observados de las variables para cada caso: son las realizaciones de las variables para los casos.\n",
    "\n",
    "## Tipos, clasificación y propósito de las variables\n",
    "\n",
    "### Tipos\n",
    "- Niveles de las variables: son los valores que puede tomar cualquier variable. La naturaleza de estos niveles es lo que determina el tipo de las variables.\n",
    "\n",
    "\n",
    "- Es importante distinguir apropiadamente el tipo de las variables, ya que condiciona el uso correcto de las técnicas estadísticas.\n",
    "\n",
    "\n",
    "- Tipos de variables:\n",
    "    - Dicotómica: tiene dos valores posibles. También se la conoce como binaria. Por ejemplo, la variable Curación (Sí/No), Ejercicio Físico (Sí/No), Género (H/M), Tratamiento (A/B) o Fumar (Sí/No).\n",
    "    - Nominal: tiene varios valores posibles sin orden entre ellos. Por ejemplo, la variable Tipo enfermedad (A/B/C), Hospital (A/B/C/D), Estado civil (Casado/Soltero/Otros) o Fumar tipo (Cigarrillos/Puros/Otros/No fuma)\n",
    "    - Ordinal: tiene varios valores posibles con un orden entre ellos. Por ejemplo, la variable Tamaño tumor (Pequeño/Mediano/Grande), Horas semanales ejercicio físico (0/más de 0/menor o igual a 2/más de 2) o Fumar nivel (Consumo alto/Moderado/Nulo)\n",
    "    - Numérica discreta: tiene en teoría un número de valores discretos (enteros) posibles. Por ejemplo, la variable Número de cefaleas mes (1/2/...), Número hijos (0/1/2/...) o Número cigarrillos día (0/1/2/...)\n",
    "    - Numérica continua o simplemente continua: tiene en teoría un número infinito de valores continuos posibles. Por ejemplo, la variable Tensión arterial, Colesterol o Nicotina en sangre.\n",
    "    \n",
    "    \n",
    "### Clasificación\n",
    "- Clasificación según el tipo de variables:\n",
    "\n",
    "|Tipo| Clasificación 1| Clasificación 2| Clasificación 3|\n",
    "|---|---|---|---|\n",
    "|Dicotómica| Cualitativa| Categórica| Discreta finita|\n",
    "|Nominal| Cualitativa| Categórica| Discreta finita|\n",
    "|Ordinal| Cualitativa| Categórica| Discreta finita|\n",
    "|Numérica discreta| Cuantitativa| Numérica discreta| Discreta infinita|\n",
    "|Continua| Cuantitativa| Continua| Continua|\n",
    "\n",
    "\n",
    "### Propósito de las variables\n",
    "- Variables respuesta: también llamadas dependientes, resultado u objetivo, son las variables que se pretende explicar o analizar.\n",
    "    - Ejemplo genérico: Medida (medida del éxito o no de un fármaco, medida del número de horas que funciona un motor hasta romperse, medida del grado de mejoría cuando se aplica una determinada técnica pedagógica, etc).\n",
    "\n",
    "\n",
    "- Variables explicativas: también llamadas independientes, son las variables candidatas a servir de explicación de las variables respuesta. \n",
    "    - Ejemplo genérico: Tipo (tipo de fármaco, tipo de motor, tipo de técnica pedagógica, etc).\n",
    " \n",
    " \n",
    "- En el caso de dos variables X (explicativa) e Y (respuesta) la escribiremos de forma esquemática como $Y \\leftarrow X$ para indicar que se está ante un modelo estadístico que establece que se está intentando explicar Y a través de X."
   ]
  }
 ],
 "metadata": {
  "kernelspec": {
   "display_name": "Python 3",
   "language": "python",
   "name": "python3"
  },
  "language_info": {
   "codemirror_mode": {
    "name": "ipython",
    "version": 3
   },
   "file_extension": ".py",
   "mimetype": "text/x-python",
   "name": "python",
   "nbconvert_exporter": "python",
   "pygments_lexer": "ipython3",
   "version": "3.8.3"
  }
 },
 "nbformat": 4,
 "nbformat_minor": 4
}
